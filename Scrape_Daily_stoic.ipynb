{
 "cells": [
  {
   "cell_type": "code",
   "execution_count": 67,
   "id": "778da50f",
   "metadata": {},
   "outputs": [
    {
     "name": "stdout",
     "output_type": "stream",
     "text": [
      "['Stoic Quotes']\n",
      "“Waste no more time arguing what a good man should be. Be One.” –Marcus Aurelius\n",
      "“Think of the life you have lived until now as over and, as a dead man, see what’s left as a bonus and live it according to Nature. Love the hand that fate deals you and play it as your own, for what could be more fitting?” –Marcus Aurelius\n",
      "“It never ceases to amaze me: we all love ourselves more than other people, but care more about their opinion than our own.” –Marcus Aurelius\n",
      "“In your actions, don’t procrastinate. In your conversations, don’t confuse. In your thoughts, don’t wander. In your soul, don’t be passive or aggressive. In your life, don’t be all about business.” –Marcus Aurelius\n",
      "“If it is not right, do not do it, if it is not true, do not say it.” –Marcus Aurelius\n",
      "“The best revenge is not to be like your enemy.” –Marcus Aurelius\n",
      "“Choose not to be harmed — and you won’t feel harmed. Don’t feel harmed — and you haven’t been.” –Marcus Aurelius\n",
      "“It’s time you realized that you have something in you more powerful and miraculous than the things that affect you and make you dance like a puppet.” –Marcus Aurelius\n",
      "“External things are not the problem. It’s your assessment of them. Which you can erase right now.” –Marcus Aurelius\n",
      "“If anyone can refute me—show me I’m making a mistake or looking at things from the wrong perspective—I’ll gladly change. It’s the truth I’m after, and the truth never harmed anyone.” –Marcus Aurelius\n",
      "“You could leave life right now. Let that determine what you do and say and think.” –Marcus Aurelius\n",
      "“Be tolerant with others and strict with yourself.” –Marcus Aurelius\n",
      "“We are more often frightened than hurt; and we suffer more in imagination than in reality.” –Seneca\n",
      "“If a man knows not which port he sails, no wind is favorable.” –Seneca\n",
      "“No person has the power to have everything they want, but it is in their power not to want what they don’t have, and to cheerfully put to good use what they do have.” –Seneca\n",
      "“Nothing, to my way of thinking, is a better proof of a well ordered mind than a man’s ability to stop just where he is and pass some time in his own company.” –Seneca\n",
      "“He who fears death will never do anything worthy of a man who is alive.” –Seneca\n",
      "“This is our big mistake: to think we look forward to death. Most of death is already gone. Whatever time has passed is owned by death.” –Seneca\n",
      "“Life is very short and anxious for those who forget the past, neglect the present, and fear the future.” –Seneca\n",
      "“I judge you unfortunate because you have never lived through misfortune. You have passed through life without an opponent—no one can ever know what you are capable of, not even you.” –Seneca\n",
      "“How does it help…to make troubles heavier by bemoaning them?” –Seneca\n",
      "“People are frugal in guarding their personal property; but as soon as it comes to squandering time they are most wasteful of the one thing in which it is right to be stingy.” –Seneca\n",
      "“How long are you going to wait before you demand the best for yourself?” –Epictetus\n",
      "“Don’t seek for everything to happen as you wish it would, but rather wish that everything happens as it actually will—then your life will flow well.” –Epictetus\n",
      "“First say to yourself what you would be; and then do what you have to do.” –Epictetus\n",
      "“Curb your desire—don’t set your heart on so many things and you will get what you need.” –Epictetus\n",
      "“That’s why the philosophers warn us not to be satisfied with mere learning, but to add practice and then training. For as time passes we forget what we learned and end up doing the opposite, and hold opinions the opposite of what we should.” –Epictetus\n",
      "“Don’t explain your philosophy. Embody it.”-Epictetus\n",
      "“The chief task in life is simply this: to identify and separate matters so that I can say clearly to myself which are externals not under my control, and which have to do with the choices I actually control. Where then do I look for good and evil? Not to uncontrollable externals, but within myself to the choices that are my own…” –Epictetus\n",
      "“If anyone tells you that a certain person speaks ill of you, do not make excuses about what is said of you but answer, ‘He was ignorant of my other faults, else he would have not mentioned these alone.'” –Epictetus\n",
      "“I begin to speak only when I’m certain what I’ll say isn’t better left unsaid.” – Cato\n",
      "“What man actually needs is not a tensionless state but rather the striving and struggling for some goal worthy of him.” – Viktor Frankl\n",
      "“When we are no longer able to change a situation, we are challenged to change ourselves.” – Viktor Frankl\n"
     ]
    }
   ],
   "source": [
    "from bs4 import BeautifulSoup\n",
    "import openpyxl\n",
    "import requests\n",
    "\n",
    "excel = openpyxl.Workbook()\n",
    "sheet = excel.active\n",
    "sheet.title = 'Stoic Quotes'\n",
    "print(excel.sheetnames)\n",
    "sheet.append(['Quote'])\n",
    "\n",
    "\n",
    "try:\n",
    "    \n",
    "    source = requests.get('https://dailystoic.com/stoic-quotes/')\n",
    "    source.raise_for_status()\n",
    "    \n",
    "    soup = BeautifulSoup(source.text,'html.parser')\n",
    "    \n",
    "    quotes = soup.find('article', class_=\"post-347 page type-page status-publish has-post-thumbnail hentry\").find_all('blockquote')\n",
    "    \n",
    "    for quote in quotes:\n",
    "        \n",
    "        text = quote.find('p').get_text(strip=True)\n",
    "        \n",
    "        \n",
    "        print(text)\n",
    "        sheet.append([text])\n",
    "\n",
    "except Exception as e:\n",
    "    print(e)\n",
    "    \n",
    "excel.save('Stoic Quotes.xlsx')"
   ]
  },
  {
   "cell_type": "code",
   "execution_count": null,
   "id": "cef1fc3e",
   "metadata": {},
   "outputs": [],
   "source": []
  },
  {
   "cell_type": "code",
   "execution_count": null,
   "id": "9853ef72",
   "metadata": {},
   "outputs": [],
   "source": []
  }
 ],
 "metadata": {
  "kernelspec": {
   "display_name": "Python 3 (ipykernel)",
   "language": "python",
   "name": "python3"
  },
  "language_info": {
   "codemirror_mode": {
    "name": "ipython",
    "version": 3
   },
   "file_extension": ".py",
   "mimetype": "text/x-python",
   "name": "python",
   "nbconvert_exporter": "python",
   "pygments_lexer": "ipython3",
   "version": "3.10.2"
  }
 },
 "nbformat": 4,
 "nbformat_minor": 5
}
